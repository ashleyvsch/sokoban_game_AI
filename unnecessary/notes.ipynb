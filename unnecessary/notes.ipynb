{
 "cells": [
  {
   "cell_type": "markdown",
   "metadata": {},
   "source": [
    "## What is reinforcement learning\n",
    "\n",
    "Reinforcement learning is learning what to do--how to map situations to actions--so as to maximize a reward signal. The learner is not told which actions to take, but instead must discover which actions yield the most reward by trying them. \n",
    "\n",
    "Beyond the agent and the environment, one can identify three main sub-elements of a reinforcement learning system: a policy, a reward signal, a value function, and, optionally, a model of the environment.\n",
    "+ _policy_: defines the learning agent’s way of behaving at a given time\n",
    "+ _reward signal_: defines the goal of a reinforcement learning problem\n",
    "    + on each time step, the environment sends to the reinforcement learning agent a single number called the _reward_.\n",
    "+ _value function_: whereas the reward signal indicates what is good in an immediate sense, a value function specifies what is good in the long run\n",
    "    + the _value_ of a state is the total amount of reward an agent can expect to accumulate over the future, starting from that state\n"
   ]
  },
  {
   "cell_type": "markdown",
   "metadata": {},
   "source": [
    "## Q - Learning\n",
    "\n",
    "In Q learning, there are some major key elements that extend the reinforcement learning problem. The value function, normally identified by the bellman equation (in an algorithm such as value iteration, for example) is approximated using a temporal difference update. This is stored in the q table. \n",
    "\n",
    "\n"
   ]
  },
  {
   "cell_type": "code",
   "execution_count": null,
   "metadata": {},
   "outputs": [],
   "source": []
  }
 ],
 "metadata": {
  "language_info": {
   "name": "python"
  },
  "orig_nbformat": 4
 },
 "nbformat": 4,
 "nbformat_minor": 2
}
