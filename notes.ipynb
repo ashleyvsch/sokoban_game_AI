{
 "cells": [
  {
   "cell_type": "markdown",
   "metadata": {},
   "source": [
    "## What is reinforcement learning\n",
    "\n",
    "Reinforcement learning is learning what to do--how to map situations to actions--so as to maximize a reward signal. The learner is not told which actions to take, but instead must discover which actions yield the most reward by trying them. \n",
    "\n",
    "Beyond the agent and the environment, one can identify four main subelements of a reinforcement learning system: a policy, a reward signal, a value function, and, optionally, a model of the environment.\n",
    "+ _policy_: defines the learning agent’s way of behaving at a given time\n",
    "+ _reward signal_: defines the goal of a reinforcement learning problem\n",
    "    + on each time step, the environment sends to the reinforcement learning agent a single number called the _reward_.\n",
    "+ _value function_: whereas the reward signal indicates what is good in an immediate sense, a value function specifies what is good in the long run\n",
    "    + the _value_ of a state is the total amount of reward an agent can expect to accumulate over the future, starting from that state\n",
    "+ _model_: something that mimics the behavior of the environment, or more generally, that allows inferences to be made about how the environment will behave"
   ]
  },
  {
   "cell_type": "markdown",
   "metadata": {},
   "source": [
    "## Algorithms we have discussed in class\n",
    "\n",
    "Value iteration\n",
    "Policy iteration\n",
    "Monte Carlo\n",
    "Q-Learning\n"
   ]
  },
  {
   "cell_type": "code",
   "execution_count": null,
   "metadata": {},
   "outputs": [],
   "source": []
  }
 ],
 "metadata": {
  "language_info": {
   "name": "python"
  },
  "orig_nbformat": 4
 },
 "nbformat": 4,
 "nbformat_minor": 2
}
